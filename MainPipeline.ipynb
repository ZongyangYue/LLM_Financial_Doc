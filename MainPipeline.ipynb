{
  "nbformat": 4,
  "nbformat_minor": 0,
  "metadata": {
    "colab": {
      "provenance": [],
      "authorship_tag": "ABX9TyMG1wEaXz5tV/pUhPuIECps",
      "include_colab_link": true
    },
    "kernelspec": {
      "name": "python3",
      "display_name": "Python 3"
    },
    "language_info": {
      "name": "python"
    }
  },
  "cells": [
    {
      "cell_type": "markdown",
      "metadata": {
        "id": "view-in-github",
        "colab_type": "text"
      },
      "source": [
        "<a href=\"https://colab.research.google.com/github/ZongyangYue/LLM_Financial_Doc/blob/main/MainPipeline.ipynb\" target=\"_parent\"><img src=\"https://colab.research.google.com/assets/colab-badge.svg\" alt=\"Open In Colab\"/></a>"
      ]
    },
    {
      "cell_type": "markdown",
      "source": [
        "### Install Necessary Packages"
      ],
      "metadata": {
        "id": "aE4Ho5tI8ULW"
      }
    },
    {
      "cell_type": "code",
      "execution_count": 5,
      "metadata": {
        "id": "7aEIjhwOcNzy"
      },
      "outputs": [],
      "source": [
        "from IPython.display import clear_output\n",
        "!pip3 install openai langchain unstructured pdf2image python-dotenv tiktoken pinecone-client\n",
        "clear_output()"
      ]
    },
    {
      "cell_type": "markdown",
      "source": [
        "### Mount on Drive File System to Get .env file and PDF Documents"
      ],
      "metadata": {
        "id": "o80NG3y28des"
      }
    },
    {
      "cell_type": "code",
      "source": [
        "from google.colab import drive\n",
        "drive.mount(\"/content/drive/\")\n",
        "%cd 'drive/My Drive/LLM'\n",
        "%ls"
      ],
      "metadata": {
        "colab": {
          "base_uri": "https://localhost:8080/"
        },
        "id": "FvddxuulcWgc",
        "outputId": "4c79fffa-a410-4859-d107-f52ab3de9960"
      },
      "execution_count": 6,
      "outputs": [
        {
          "output_type": "stream",
          "name": "stdout",
          "text": [
            "Mounted at /content/drive/\n",
            "/content/drive/My Drive/LLM\n",
            " 2019122700117_acc_report.pdf   InfoExtraction.ipynb   TestEnvFile.ipynb\n",
            " 2023022000301_acc_report.pdf   MainPipeline.ipynb    'Test langchain.ipynb'\n",
            " env                            PDFparser.ipynb\n"
          ]
        }
      ]
    },
    {
      "cell_type": "markdown",
      "source": [
        "### Read Environment Variables"
      ],
      "metadata": {
        "id": "V5ew-s4U82KY"
      }
    },
    {
      "cell_type": "code",
      "source": [
        "import os\n",
        "import openai\n",
        "import tiktoken\n",
        "from dotenv import load_dotenv, find_dotenv\n",
        "_ = load_dotenv(find_dotenv()) # read local .env file\n",
        "\n",
        "# print(os.environ['OPENAI_API_KEY'])\n",
        "# print(os.environ['PINECONE_API_KEY'])\n",
        "# print(os.environ['PINECONE_API_ENV'])\n",
        "openai.api_key  = os.environ['OPENAI_API_KEY']"
      ],
      "metadata": {
        "id": "-6F3ZOyNcfL6"
      },
      "execution_count": 8,
      "outputs": []
    },
    {
      "cell_type": "markdown",
      "source": [
        "### Read PDF Documents into document objects / texts"
      ],
      "metadata": {
        "id": "SUHUCYta89uL"
      }
    },
    {
      "cell_type": "code",
      "source": [
        "from langchain.document_loaders import UnstructuredPDFLoader"
      ],
      "metadata": {
        "id": "OcqQA6uMcuT3"
      },
      "execution_count": 9,
      "outputs": []
    },
    {
      "cell_type": "code",
      "source": [
        "loader = UnstructuredPDFLoader(\"2019122700117_acc_report.pdf\")"
      ],
      "metadata": {
        "id": "3iAO3F8CcwKo"
      },
      "execution_count": 10,
      "outputs": []
    },
    {
      "cell_type": "code",
      "source": [
        "data = loader.load()"
      ],
      "metadata": {
        "colab": {
          "base_uri": "https://localhost:8080/"
        },
        "id": "MKUVIhctcxmz",
        "outputId": "4f29197c-b00f-47e8-9aca-cb251271079e"
      },
      "execution_count": 11,
      "outputs": [
        {
          "output_type": "stream",
          "name": "stderr",
          "text": [
            "[nltk_data] Downloading package punkt to /root/nltk_data...\n",
            "[nltk_data]   Unzipping tokenizers/punkt.zip.\n",
            "[nltk_data] Downloading package averaged_perceptron_tagger to\n",
            "[nltk_data]     /root/nltk_data...\n",
            "[nltk_data]   Unzipping taggers/averaged_perceptron_tagger.zip.\n"
          ]
        }
      ]
    },
    {
      "cell_type": "code",
      "source": [
        "print (f'You have {len(data)} document(s) in your data')\n",
        "print (f'There are {len(data[0].page_content)} characters in your document')"
      ],
      "metadata": {
        "colab": {
          "base_uri": "https://localhost:8080/"
        },
        "id": "PwkPPxtw5_L3",
        "outputId": "550d95bf-e025-4142-fe2e-a231100aab03"
      },
      "execution_count": 12,
      "outputs": [
        {
          "output_type": "stream",
          "name": "stdout",
          "text": [
            "You have 1 document(s) in your data\n",
            "There are 131437 characters in your document\n"
          ]
        }
      ]
    },
    {
      "cell_type": "markdown",
      "source": [
        "### Split Texts into Chunks"
      ],
      "metadata": {
        "id": "BRJm_ieR74Oj"
      }
    },
    {
      "cell_type": "code",
      "source": [
        "from langchain.text_splitter import RecursiveCharacterTextSplitter"
      ],
      "metadata": {
        "id": "ZCiV3Gp98M0l"
      },
      "execution_count": 13,
      "outputs": []
    },
    {
      "cell_type": "code",
      "source": [
        "text_splitter = RecursiveCharacterTextSplitter(chunk_size=1000, chunk_overlap=0)\n",
        "texts = text_splitter.split_documents(data)"
      ],
      "metadata": {
        "id": "Y3glinTf7iL6"
      },
      "execution_count": 14,
      "outputs": []
    },
    {
      "cell_type": "code",
      "source": [
        "print (f'Now you have {len(texts)} documents')"
      ],
      "metadata": {
        "colab": {
          "base_uri": "https://localhost:8080/"
        },
        "id": "pjo4KhTP7tta",
        "outputId": "09048c63-ff76-43f8-942f-f2d24dd0e583"
      },
      "execution_count": 15,
      "outputs": [
        {
          "output_type": "stream",
          "name": "stdout",
          "text": [
            "Now you have 152 documents\n"
          ]
        }
      ]
    },
    {
      "cell_type": "markdown",
      "source": [
        "## Create Embeddings in Pinecone"
      ],
      "metadata": {
        "id": "d_wQ6Luu9Scv"
      }
    },
    {
      "cell_type": "code",
      "source": [
        "import pinecone\n",
        "from langchain.vectorstores import Pinecone\n",
        "from langchain.embeddings.openai import OpenAIEmbeddings"
      ],
      "metadata": {
        "id": "VOeyHlFu9V7J"
      },
      "execution_count": 16,
      "outputs": []
    },
    {
      "cell_type": "code",
      "source": [
        "OPENAI_API_KEY = os.environ['OPENAI_API_KEY']\n",
        "PINECONE_API_KEY = os.environ['PINECONE_API_KEY']\n",
        "PINECONE_API_ENV = os.environ['PINECONE_API_ENV']"
      ],
      "metadata": {
        "id": "xx6AguG--Cq6"
      },
      "execution_count": 17,
      "outputs": []
    },
    {
      "cell_type": "code",
      "source": [
        "embeddings = OpenAIEmbeddings(openai_api_key=OPENAI_API_KEY)"
      ],
      "metadata": {
        "id": "5wqspW1R_jsB"
      },
      "execution_count": 18,
      "outputs": []
    },
    {
      "cell_type": "code",
      "source": [
        "# initialize pinecone\n",
        "pinecone.init(\n",
        "    api_key=PINECONE_API_KEY,  # find at app.pinecone.io\n",
        "    environment=PINECONE_API_ENV  # next to api key in console\n",
        ")\n",
        "index_name = \"langchain1\" # already created using Pinecone web GUI"
      ],
      "metadata": {
        "id": "wgOZj8yd_me8"
      },
      "execution_count": 22,
      "outputs": []
    },
    {
      "cell_type": "markdown",
      "source": [
        "Load text vector embeddings into Pinecone Vector Store Database"
      ],
      "metadata": {
        "id": "ZS30jEHPEHXu"
      }
    },
    {
      "cell_type": "code",
      "source": [
        "docsearch = Pinecone.from_texts([t.page_content for t in texts], embeddings, index_name=index_name)"
      ],
      "metadata": {
        "id": "HAL1naoV_oo5"
      },
      "execution_count": 23,
      "outputs": []
    },
    {
      "cell_type": "markdown",
      "source": [
        "Turn query into embeddings, and find top_k similar vectors in pinecone vector store database from 152 vectors\n"
      ],
      "metadata": {
        "id": "2gW-_sbgFO5S"
      }
    },
    {
      "cell_type": "code",
      "source": [
        "query = \"What is the name of the auditor who issued this accountant report, return answer in one or two words\"\n",
        "docs = docsearch.similarity_search(query, k = 10)"
      ],
      "metadata": {
        "id": "tZDAHgrjFZQW"
      },
      "execution_count": 25,
      "outputs": []
    },
    {
      "cell_type": "markdown",
      "source": [
        "Import question answering functionality of OpenAI"
      ],
      "metadata": {
        "id": "WrX1igXvGCZU"
      }
    },
    {
      "cell_type": "code",
      "source": [
        "from langchain.llms import OpenAI\n",
        "from langchain.chains.question_answering import load_qa_chain"
      ],
      "metadata": {
        "id": "l5FCWbSZGB54"
      },
      "execution_count": 26,
      "outputs": []
    },
    {
      "cell_type": "markdown",
      "source": [
        "Set up LLM temperature and chain_type=\"stuff\""
      ],
      "metadata": {
        "id": "wPZRDWsyGImh"
      }
    },
    {
      "cell_type": "code",
      "source": [
        "llm = OpenAI(temperature=0, openai_api_key=OPENAI_API_KEY)\n",
        "chain = load_qa_chain(llm, chain_type=\"stuff\")"
      ],
      "metadata": {
        "id": "UyOZXFLFIVAn"
      },
      "execution_count": 27,
      "outputs": []
    },
    {
      "cell_type": "markdown",
      "source": [
        "### Run Queries using the OpenAI LLM and top_k related embeddings as context."
      ],
      "metadata": {
        "id": "1MrHG8mzP2Kc"
      }
    },
    {
      "cell_type": "markdown",
      "source": [
        "prompt engineering if we change query text,\n",
        "can we tune embeddings directly? or vector embedding engineering?"
      ],
      "metadata": {
        "id": "gAb7R0DNQFuP"
      }
    },
    {
      "cell_type": "code",
      "source": [
        "chain.run(input_documents=docs, question=query).strip()"
      ],
      "metadata": {
        "colab": {
          "base_uri": "https://localhost:8080/",
          "height": 35
        },
        "id": "a2HrWKjKPylQ",
        "outputId": "3f75991a-cd6e-4bac-95aa-944b869ec001"
      },
      "execution_count": 29,
      "outputs": [
        {
          "output_type": "execute_result",
          "data": {
            "text/plain": [
              "'PricewaterhouseCoopers'"
            ],
            "application/vnd.google.colaboratory.intrinsic+json": {
              "type": "string"
            }
          },
          "metadata": {},
          "execution_count": 29
        }
      ]
    }
  ]
}